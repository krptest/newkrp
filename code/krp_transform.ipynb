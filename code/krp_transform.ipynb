{
 "cells": [
  {
   "cell_type": "code",
   "execution_count": 1,
   "metadata": {},
   "outputs": [],
   "source": [
    "#import mandoku_view\n",
    "from github import Github\n",
    "import kr2tei"
   ]
  },
  {
   "cell_type": "code",
   "execution_count": 2,
   "metadata": {},
   "outputs": [
    {
     "data": {
      "text/plain": [
       "<module 'kr2tei' from '/home/chris/00scratch/newkrp/code/kr2tei.py'>"
      ]
     },
     "execution_count": 2,
     "metadata": {},
     "output_type": "execute_result"
    }
   ],
   "source": [
    "import importlib\n",
    "importlib.reload(kr2tei)\n"
   ]
  },
  {
   "cell_type": "code",
   "execution_count": 4,
   "metadata": {},
   "outputs": [
    {
     "name": "stdout",
     "output_type": "stream",
     "text": [
      "Importing environment from .env...\n"
     ]
    }
   ],
   "source": [
    "import os\n",
    "if os.path.exists('../../.env'):\n",
    "    print('Importing environment from .env...')\n",
    "    for line in open('.env'):\n",
    "        var = line.strip().split('=')\n",
    "        if len(var) == 2:\n",
    "            os.environ[var[0]] = var[1]\n"
   ]
  },
  {
   "cell_type": "code",
   "execution_count": 5,
   "metadata": {},
   "outputs": [],
   "source": [
    "at=os.environ['at']\n",
    "gh=Github(at)\n",
    "txtid = \"KR3a0007\"\n",
    "hs=gh.get_repo(\"kanripo/\" + txtid)"
   ]
  },
  {
   "cell_type": "code",
   "execution_count": 6,
   "metadata": {},
   "outputs": [],
   "source": [
    "ct = hs.get_contents(\"/\", ref=\"master\")"
   ]
  },
  {
   "cell_type": "code",
   "execution_count": 7,
   "metadata": {},
   "outputs": [
    {
     "data": {
      "text/plain": [
       "{'id': 43467428,\n",
       " 'node_id': 'MDEwOlJlcG9zaXRvcnk0MzQ2NzQyOA==',\n",
       " 'name': 'KR3a0007',\n",
       " 'full_name': 'kanripo/KR3a0007',\n",
       " 'private': False,\n",
       " 'owner': {'login': 'kanripo',\n",
       "  'id': 10704762,\n",
       "  'node_id': 'MDEyOk9yZ2FuaXphdGlvbjEwNzA0NzYy',\n",
       "  'avatar_url': 'https://avatars3.githubusercontent.com/u/10704762?v=4',\n",
       "  'gravatar_id': '',\n",
       "  'url': 'https://api.github.com/users/kanripo',\n",
       "  'html_url': 'https://github.com/kanripo',\n",
       "  'followers_url': 'https://api.github.com/users/kanripo/followers',\n",
       "  'following_url': 'https://api.github.com/users/kanripo/following{/other_user}',\n",
       "  'gists_url': 'https://api.github.com/users/kanripo/gists{/gist_id}',\n",
       "  'starred_url': 'https://api.github.com/users/kanripo/starred{/owner}{/repo}',\n",
       "  'subscriptions_url': 'https://api.github.com/users/kanripo/subscriptions',\n",
       "  'organizations_url': 'https://api.github.com/users/kanripo/orgs',\n",
       "  'repos_url': 'https://api.github.com/users/kanripo/repos',\n",
       "  'events_url': 'https://api.github.com/users/kanripo/events{/privacy}',\n",
       "  'received_events_url': 'https://api.github.com/users/kanripo/received_events',\n",
       "  'type': 'Organization',\n",
       "  'site_admin': False},\n",
       " 'html_url': 'https://github.com/kanripo/KR3a0007',\n",
       " 'description': '說苑-漢-',\n",
       " 'fork': False,\n",
       " 'url': 'https://api.github.com/repos/kanripo/KR3a0007',\n",
       " 'forks_url': 'https://api.github.com/repos/kanripo/KR3a0007/forks',\n",
       " 'keys_url': 'https://api.github.com/repos/kanripo/KR3a0007/keys{/key_id}',\n",
       " 'collaborators_url': 'https://api.github.com/repos/kanripo/KR3a0007/collaborators{/collaborator}',\n",
       " 'teams_url': 'https://api.github.com/repos/kanripo/KR3a0007/teams',\n",
       " 'hooks_url': 'https://api.github.com/repos/kanripo/KR3a0007/hooks',\n",
       " 'issue_events_url': 'https://api.github.com/repos/kanripo/KR3a0007/issues/events{/number}',\n",
       " 'events_url': 'https://api.github.com/repos/kanripo/KR3a0007/events',\n",
       " 'assignees_url': 'https://api.github.com/repos/kanripo/KR3a0007/assignees{/user}',\n",
       " 'branches_url': 'https://api.github.com/repos/kanripo/KR3a0007/branches{/branch}',\n",
       " 'tags_url': 'https://api.github.com/repos/kanripo/KR3a0007/tags',\n",
       " 'blobs_url': 'https://api.github.com/repos/kanripo/KR3a0007/git/blobs{/sha}',\n",
       " 'git_tags_url': 'https://api.github.com/repos/kanripo/KR3a0007/git/tags{/sha}',\n",
       " 'git_refs_url': 'https://api.github.com/repos/kanripo/KR3a0007/git/refs{/sha}',\n",
       " 'trees_url': 'https://api.github.com/repos/kanripo/KR3a0007/git/trees{/sha}',\n",
       " 'statuses_url': 'https://api.github.com/repos/kanripo/KR3a0007/statuses/{sha}',\n",
       " 'languages_url': 'https://api.github.com/repos/kanripo/KR3a0007/languages',\n",
       " 'stargazers_url': 'https://api.github.com/repos/kanripo/KR3a0007/stargazers',\n",
       " 'contributors_url': 'https://api.github.com/repos/kanripo/KR3a0007/contributors',\n",
       " 'subscribers_url': 'https://api.github.com/repos/kanripo/KR3a0007/subscribers',\n",
       " 'subscription_url': 'https://api.github.com/repos/kanripo/KR3a0007/subscription',\n",
       " 'commits_url': 'https://api.github.com/repos/kanripo/KR3a0007/commits{/sha}',\n",
       " 'git_commits_url': 'https://api.github.com/repos/kanripo/KR3a0007/git/commits{/sha}',\n",
       " 'comments_url': 'https://api.github.com/repos/kanripo/KR3a0007/comments{/number}',\n",
       " 'issue_comment_url': 'https://api.github.com/repos/kanripo/KR3a0007/issues/comments{/number}',\n",
       " 'contents_url': 'https://api.github.com/repos/kanripo/KR3a0007/contents/{+path}',\n",
       " 'compare_url': 'https://api.github.com/repos/kanripo/KR3a0007/compare/{base}...{head}',\n",
       " 'merges_url': 'https://api.github.com/repos/kanripo/KR3a0007/merges',\n",
       " 'archive_url': 'https://api.github.com/repos/kanripo/KR3a0007/{archive_format}{/ref}',\n",
       " 'downloads_url': 'https://api.github.com/repos/kanripo/KR3a0007/downloads',\n",
       " 'issues_url': 'https://api.github.com/repos/kanripo/KR3a0007/issues{/number}',\n",
       " 'pulls_url': 'https://api.github.com/repos/kanripo/KR3a0007/pulls{/number}',\n",
       " 'milestones_url': 'https://api.github.com/repos/kanripo/KR3a0007/milestones{/number}',\n",
       " 'notifications_url': 'https://api.github.com/repos/kanripo/KR3a0007/notifications{?since,all,participating}',\n",
       " 'labels_url': 'https://api.github.com/repos/kanripo/KR3a0007/labels{/name}',\n",
       " 'releases_url': 'https://api.github.com/repos/kanripo/KR3a0007/releases{/id}',\n",
       " 'deployments_url': 'https://api.github.com/repos/kanripo/KR3a0007/deployments',\n",
       " 'created_at': '2015-09-30T23:55:03Z',\n",
       " 'updated_at': '2016-02-05T09:27:40Z',\n",
       " 'pushed_at': '2020-05-07T02:34:07Z',\n",
       " 'git_url': 'git://github.com/kanripo/KR3a0007.git',\n",
       " 'ssh_url': 'git@github.com:kanripo/KR3a0007.git',\n",
       " 'clone_url': 'https://github.com/kanripo/KR3a0007.git',\n",
       " 'svn_url': 'https://github.com/kanripo/KR3a0007',\n",
       " 'homepage': None,\n",
       " 'size': 518,\n",
       " 'stargazers_count': 0,\n",
       " 'watchers_count': 0,\n",
       " 'language': None,\n",
       " 'has_issues': True,\n",
       " 'has_projects': True,\n",
       " 'has_downloads': True,\n",
       " 'has_wiki': True,\n",
       " 'has_pages': False,\n",
       " 'forks_count': 0,\n",
       " 'mirror_url': None,\n",
       " 'archived': False,\n",
       " 'disabled': False,\n",
       " 'open_issues_count': 0,\n",
       " 'license': None,\n",
       " 'forks': 0,\n",
       " 'open_issues': 0,\n",
       " 'watchers': 0,\n",
       " 'default_branch': 'master',\n",
       " 'permissions': {'admin': True, 'push': True, 'pull': True},\n",
       " 'temp_clone_token': '',\n",
       " 'allow_squash_merge': True,\n",
       " 'allow_merge_commit': True,\n",
       " 'allow_rebase_merge': True,\n",
       " 'delete_branch_on_merge': False,\n",
       " 'organization': {'login': 'kanripo',\n",
       "  'id': 10704762,\n",
       "  'node_id': 'MDEyOk9yZ2FuaXphdGlvbjEwNzA0NzYy',\n",
       "  'avatar_url': 'https://avatars3.githubusercontent.com/u/10704762?v=4',\n",
       "  'gravatar_id': '',\n",
       "  'url': 'https://api.github.com/users/kanripo',\n",
       "  'html_url': 'https://github.com/kanripo',\n",
       "  'followers_url': 'https://api.github.com/users/kanripo/followers',\n",
       "  'following_url': 'https://api.github.com/users/kanripo/following{/other_user}',\n",
       "  'gists_url': 'https://api.github.com/users/kanripo/gists{/gist_id}',\n",
       "  'starred_url': 'https://api.github.com/users/kanripo/starred{/owner}{/repo}',\n",
       "  'subscriptions_url': 'https://api.github.com/users/kanripo/subscriptions',\n",
       "  'organizations_url': 'https://api.github.com/users/kanripo/orgs',\n",
       "  'repos_url': 'https://api.github.com/users/kanripo/repos',\n",
       "  'events_url': 'https://api.github.com/users/kanripo/events{/privacy}',\n",
       "  'received_events_url': 'https://api.github.com/users/kanripo/received_events',\n",
       "  'type': 'Organization',\n",
       "  'site_admin': False},\n",
       " 'network_count': 0,\n",
       " 'subscribers_count': 2}"
      ]
     },
     "execution_count": 7,
     "metadata": {},
     "output_type": "execute_result"
    }
   ],
   "source": [
    "hs.raw_data"
   ]
  },
  {
   "cell_type": "code",
   "execution_count": 8,
   "metadata": {},
   "outputs": [],
   "source": [
    "#raw url, then dl content.\n",
    "title=hs.raw_data['description']"
   ]
  },
  {
   "cell_type": "code",
   "execution_count": 9,
   "metadata": {},
   "outputs": [
    {
     "data": {
      "text/plain": [
       "'Title:說苑-漢-'"
      ]
     },
     "execution_count": 9,
     "metadata": {},
     "output_type": "execute_result"
    }
   ],
   "source": [
    "\"Title:%(description)s\" % hs.raw_data"
   ]
  },
  {
   "cell_type": "code",
   "execution_count": 10,
   "metadata": {},
   "outputs": [],
   "source": [
    "s=ct[2].decoded_content\n",
    "cont=s.decode('utf8')\n",
    "lines = cont.split('\\n')"
   ]
  },
  {
   "cell_type": "code",
   "execution_count": 15,
   "metadata": {},
   "outputs": [
    {
     "data": {
      "text/plain": [
       "{'TEXT': [[\"\\n<pb ed='SBCK' n='001-1a' xml:id='KR3a0007_SBCK_001-1a'/><lb/>\\n\",\n",
       "   '説苑卷第一<lb/>\\n',\n",
       "   '\\u3000\\u3000君道<lb/>\\n',\n",
       "   '晉平公問扵師曠曰人君之道如何對<lb/>\\n',\n",
       "   '曰人君之道清浄無為務在博愛趨在<lb/>\\n',\n",
       "   '任賢廣開耳目以察萬方不固溺扵流<lb/>\\n',\n",
       "   '俗不拘繫扵左右廓然逺見踔然獨立<lb/>\\n',\n",
       "   '屢省考績以臨臣下此人君之操也平<lb/>\\n',\n",
       "   '公曰善<lb/>\\n',\n",
       "   '齊宣王謂尹文曰人君之事何如尹文<lb/>\\n',\n",
       "   \"\\n<pb ed='SBCK' n='001-1b' xml:id='KR3a0007_SBCK_001-1b'/><lb/>\\n\",\n",
       "   '對曰人君之事無為而能容下夫事寡<lb/>\\n',\n",
       "   '易從法省易因故民不以政獲罪也大<lb/>\\n',\n",
       "   '道容衆大徳容下聖人寡為而天下理<lb/>\\n',\n",
       "   '矣書曰睿作聖詩人曰岐有夷之行子<lb/>\\n',\n",
       "   '孫其保之宣王曰善<lb/>\\n',\n",
       "   '成王封伯禽為魯公召而告之曰爾知<lb/>\\n',\n",
       "   '為人上之道乎凡處尊位者必以敬下<lb/>\\n',\n",
       "   '順徳䂓諫必開不諱之門蹲節安静以<lb/>\\n',\n",
       "   '藉之諫者勿振以威母格其言博采其<lb/>\\n',\n",
       "   \"\\n<pb ed='SBCK' n='001-2a' xml:id='KR3a0007_SBCK_001-2a'/><lb/>\\n\",\n",
       "   '辭乃擇可觀夫有文無武無以威下有<lb/>\\n',\n",
       "   '武無文民畏不親文武俱行威徳乃成<lb/>\\n',\n",
       "   '既成威徳民親以服清白上通巧佞下<lb/>\\n',\n",
       "   '塞諌者得進忠信乃畜伯禽再拜受命<lb/>\\n',\n",
       "   '而辭<lb/>\\n',\n",
       "   '陳靈公行僻而言失泄冶曰陳其亡矣<lb/>\\n',\n",
       "   '吾驟諫君君不吾聽而愈失威儀夫上<lb/>\\n',\n",
       "   '之化下猶風靡草東風則草靡而西西<lb/>\\n',\n",
       "   '風則草靡而東在風所由而草為之靡<lb/>\\n',\n",
       "   \"\\n<pb ed='SBCK' n='001-2b' xml:id='KR3a0007_SBCK_001-2b'/><lb/>\\n\",\n",
       "   '是故人君之動不可不慎也夫樹曲木<lb/>\\n',\n",
       "   '者惡得直影人君不直其行不敬其言<lb/>\\n',\n",
       "   '者未有能保帝王之號垂顯令之名者<lb/>\\n',\n",
       "   '也易曰夫君子居其室出其言善則千<lb/>\\n',\n",
       "   '里之外應之况其邇者乎居其室出其<lb/>\\n',\n",
       "   '言不善則千里之外違之况其邇者乎<lb/>\\n',\n",
       "   '言出扵身加扵民行發乎邇見乎逺言<lb/>\\n',\n",
       "   '行君子之樞機樞機之發榮辱之主君<lb/>\\n',\n",
       "   '子之所以動天地可不慎乎天地動而<lb/>\\n',\n",
       "   \"\\n<pb ed='SBCK' n='001-3a' xml:id='KR3a0007_SBCK_001-3a'/><lb/>\\n\",\n",
       "   '萬物變化詩曰慎尔出話敬尔威儀無<lb/>\\n',\n",
       "   '不柔嘉此之謂也今君不是之慎而縱<lb/>\\n',\n",
       "   '恣焉不亾必弑靈公聞之以泄冶為妖<lb/>\\n',\n",
       "   '言而殺之後果弑扵徴舒<lb/>\\n',\n",
       "   '魯哀公問扵孔子曰吾聞君子不博有<lb/>\\n',\n",
       "   '之乎孔子對曰有之哀公曰何為其不<lb/>\\n',\n",
       "   '博也孔子對曰為其有二乗哀公曰有<lb/>\\n',\n",
       "   '二乗則何為不博也孔子對曰為行惡<lb/>\\n',\n",
       "   '道也哀公懼焉有間曰若是乎君子之<lb/>\\n',\n",
       "   \"\\n<pb ed='SBCK' n='001-3b' xml:id='KR3a0007_SBCK_001-3b'/><lb/>\\n\",\n",
       "   '惡惡道之甚也孔子對曰惡惡道不能<lb/>\\n',\n",
       "   '甚則其好善道亦不能甚好善道不能<lb/>\\n',\n",
       "   '甚則百姓之親之也亦不能甚詩云未<lb/>\\n',\n",
       "   '見君子憂心惙惙亦既見止亦既覯止<lb/>\\n',\n",
       "   '我心則悦詩之好善道之甚也如此哀<lb/>\\n',\n",
       "   '公曰善哉吾聞君子成人之美不成人<lb/>\\n',\n",
       "   '之惡㣲孔子吾焉聞斯言也哉<lb/>\\n',\n",
       "   '河間獻王曰堯存心扵天下加志扵窮<lb/>\\n',\n",
       "   '民痛萬姓之罹罪憂衆生之不遂也有<lb/>\\n',\n",
       "   \"\\n<pb ed='SBCK' n='001-4a' xml:id='KR3a0007_SBCK_001-4a'/><lb/>\\n\",\n",
       "   '一民飢則曰此我飢之也有一人寒則<lb/>\\n',\n",
       "   '曰此我寒之也一民有罪則曰此我䧟<lb/>\\n',\n",
       "   '之也仁昭而義立徳博而化廣故不賞<lb/>\\n',\n",
       "   '而民勸不罰而民治先恕而後教是堯<lb/>\\n',\n",
       "   '道也當舜之時有苗氏不服其所以不<lb/>\\n',\n",
       "   '服者大山在其南殿山在其北左洞庭<lb/>\\n',\n",
       "   '之波右彭蠡之川用此險也所以不服<lb/>\\n',\n",
       "   '禹欲伐之舜不許曰諭教猶未竭也究<lb/>\\n',\n",
       "   '諭教焉而有苗氏請服天下聞之皆非<lb/>\\n',\n",
       "   \"\\n<pb ed='SBCK' n='001-4b' xml:id='KR3a0007_SBCK_001-4b'/><lb/>\\n\",\n",
       "   '禹之義而歸舜之徳<lb/>\\n',\n",
       "   '周公踐天子之位布徳施惠逺而逾明<lb/>\\n',\n",
       "   '十二牧方三人出舉逺方之民有飢寒<lb/>\\n',\n",
       "   '而不得衣食者有獄訟而失職者有賢<lb/>\\n',\n",
       "   '才而不舉者以入告乎天子天子扵其<lb/>\\n',\n",
       "   '君之朝也揖而進之曰意朕之政教有<lb/>\\n',\n",
       "   '不得者與何其所臨之民有飢寒不得<lb/>\\n',\n",
       "   '衣食者有獄訟而失職者有賢才而不<lb/>\\n',\n",
       "   '舉者也其君歸也乃召其國大夫告用<lb/>\\n',\n",
       "   \"\\n<pb ed='SBCK' n='001-5a' xml:id='KR3a0007_SBCK_001-5a'/><lb/>\\n\",\n",
       "   '天子之言百姓聞之皆喜曰此誠天子<lb/>\\n',\n",
       "   '也何居之深逺而見我之眀也豈可欺<lb/>\\n',\n",
       "   '哉故牧者所以辟四門明四目達四聦<lb/>\\n',\n",
       "   '也是以近者親之逺者安之詩曰柔逺<lb/>\\n',\n",
       "   '能邇以定我王此之謂矣<lb/>\\n',\n",
       "   '河間獻王曰禹稱民無食則我不能使<lb/>\\n',\n",
       "   '也功成而不利扵人則我不能勸也故<lb/>\\n',\n",
       "   '䟽河以導之鑿江通扵九派灑五湖而<lb/>\\n',\n",
       "   '定東海民亦勞矣然而不怨苦者利歸<lb/>\\n',\n",
       "   \"\\n<pb ed='SBCK' n='001-5b' xml:id='KR3a0007_SBCK_001-5b'/><lb/>\\n\",\n",
       "   '扵民也<lb/>\\n',\n",
       "   '禹出見罪人下車問而泣之左右曰夫<lb/>\\n',\n",
       "   '罪人不順道故使然焉君王何為痛之<lb/>\\n',\n",
       "   '至扵此也禹曰堯舜之人皆以堯舜之<lb/>\\n',\n",
       "   '心為心今寡人為君也百姓各自以其<lb/>\\n',\n",
       "   '心為心是以痛之也書曰百姓有罪在<lb/>\\n',\n",
       "   '予一人<lb/>\\n',\n",
       "   '虞人與芮人質其成扵文王入文王之<lb/>\\n',\n",
       "   '境則見其人民之讓為士大夫入其國<lb/>\\n',\n",
       "   \"\\n<pb ed='SBCK' n='001-6a' xml:id='KR3a0007_SBCK_001-6a'/><lb/>\\n\",\n",
       "   '則見其士大夫讓為公卿二國者相謂<lb/>\\n',\n",
       "   '曰其人民讓為士大夫其士大夫譲為<lb/>\\n',\n",
       "   '公卿然則此其君亦譲以天下而不居<lb/>\\n',\n",
       "   '矣二國者未見文王之身而讓其所争<lb/>\\n',\n",
       "   '以為閑田而反孔子曰大哉文王之道<lb/>\\n',\n",
       "   '乎其不可加矣不動而變無為而成敬<lb/>\\n',\n",
       "   '慎恭已而虞芮自平故書曰惟文王之<lb/>\\n',\n",
       "   '敬忌此之謂也<lb/>\\n',\n",
       "   '成王與唐叔虞燕居剪梧桐葉以為珪<lb/>\\n',\n",
       "   \"\\n<pb ed='SBCK' n='001-6b' xml:id='KR3a0007_SBCK_001-6b'/><lb/>\\n\",\n",
       "   '而授唐叔虞曰余以此封汝唐叔虞喜<lb/>\\n',\n",
       "   '以告周公周公以請曰天子封虞耶成<lb/>\\n',\n",
       "   '王曰余一與虞戯也周公對曰臣聞之<lb/>\\n',\n",
       "   '天子無戲言言則史書之工誦之士稱<lb/>\\n',\n",
       "   '之扵是遂封唐叔虞扵晋周公旦可謂<lb/>\\n',\n",
       "   '善說矣一稱而成王益重言明愛弟之<lb/>\\n',\n",
       "   '義有輔王室之固當堯之時舜為司徒<lb/>\\n',\n",
       "   '契為司馬禹為司空后稷為田疇夔為<lb/>\\n',\n",
       "   '樂正倕為工師伯夷為秩宗臯陶為大<lb/>\\n',\n",
       "   \"\\n<pb ed='SBCK' n='001-7a' xml:id='KR3a0007_SBCK_001-7a'/><lb/>\\n\",\n",
       "   '理益掌\\U001056f7禽堯體力便巧不能為一焉<lb/>\\n',\n",
       "   '堯為君而九子為臣其何故也堯知九<lb/>\\n',\n",
       "   '職之事使九子者各受其事皆勝其任<lb/>\\n',\n",
       "   '以成九功堯遂成厥功以王天下是故<lb/>\\n',\n",
       "   '知人者王道也知事者臣道也王道知<lb/>\\n',\n",
       "   '人臣道知事毋亂舊法而天下治矣<lb/>\\n',\n",
       "   '湯問伊尹曰三公九卿二十七大夫八<lb/>\\n',\n",
       "   '十一元士知之有道乎伊尹對曰昔者<lb/>\\n',\n",
       "   '堯見人而知舜任人然後知禹以成功<lb/>\\n',\n",
       "   \"\\n<pb ed='SBCK' n='001-7b' xml:id='KR3a0007_SBCK_001-7b'/><lb/>\\n\",\n",
       "   '舉之夫三君之舉賢皆異道而成功然<lb/>\\n',\n",
       "   '尚有失者况無法度而任已直意用人<lb/>\\n',\n",
       "   '必大失矣故君使臣自貢其能則萬一<lb/>\\n',\n",
       "   '之不失矣王者何以選賢夫王者得賢<lb/>\\n',\n",
       "   '材以自輔然後治也雖有堯舜之明而<lb/>\\n',\n",
       "   '股肱不僃則主恩不流化澤不行故明<lb/>\\n',\n",
       "   '君在上慎扵擇士務扵求賢設四佐以<lb/>\\n',\n",
       "   '自輔有英俊以治官尊其爵重其禄賢<lb/>\\n',\n",
       "   '者進以顯榮罷者退而勞力是以主無<lb/>\\n',\n",
       "   \"\\n<pb ed='SBCK' n='001-8a' xml:id='KR3a0007_SBCK_001-8a'/><lb/>\\n\",\n",
       "   '遺憂下無邪慝百官能治臣下樂職恩<lb/>\\n',\n",
       "   '流群生潤澤草木昔者虞舜左禹右臯<lb/>\\n',\n",
       "   '陶不下堂而天下治此使能之効也<lb/>\\n',\n",
       "   '武王問太公曰舉賢而以危亾者何也<lb/>\\n',\n",
       "   '太公曰舉賢而不用是有舉賢之名而<lb/>\\n',\n",
       "   '不得真賢之實也武王曰其失安在太<lb/>\\n',\n",
       "   '公望曰其失在君好用小善而已不得<lb/>\\n',\n",
       "   '真賢也武王曰好用小善者何如太公<lb/>\\n',\n",
       "   '曰君好聽譽而不惡讒也以非賢為賢<lb/>\\n',\n",
       "   \"\\n<pb ed='SBCK' n='001-8b' xml:id='KR3a0007_SBCK_001-8b'/><lb/>\\n\",\n",
       "   '以非善為善以非忠為忠以非信為信<lb/>\\n',\n",
       "   '其君以譽為功以毁為罪有功者不賞<lb/>\\n',\n",
       "   '有罪者不罰多黨者進少黨者退是以<lb/>\\n',\n",
       "   '群臣比周而蔽賢百吏群黨而多姦忠<lb/>\\n',\n",
       "   '臣以誹死扵無罪邪臣以譽賞扵無功<lb/>\\n',\n",
       "   '其國見扵危亾武王曰善吾今日聞誹<lb/>\\n',\n",
       "   '譽之情矣<lb/>\\n',\n",
       "   '武王問太公曰得賢敬士或不能以為<lb/>\\n',\n",
       "   '治者何也太公對曰不能獨㫁以人言<lb/>\\n',\n",
       "   \"\\n<pb ed='SBCK' n='001-9a' xml:id='KR3a0007_SBCK_001-9a'/><lb/>\\n\",\n",
       "   '斷者殃也武王曰何為以人言斷太公<lb/>\\n',\n",
       "   '對曰不能定所去以人言去不能定所<lb/>\\n',\n",
       "   '取以人言取不能定所為以人言為不<lb/>\\n',\n",
       "   '能定所罰以人言罰不能定所賞以人<lb/>\\n',\n",
       "   '言賞賢者不必用不肖者不必退而士<lb/>\\n',\n",
       "   '不必敬武王曰善其為國何如太公對<lb/>\\n',\n",
       "   '曰其為人惡聞其情而喜聞人之情惡<lb/>\\n',\n",
       "   '聞其惡而喜聞人之惡是以不必治也<lb/>\\n',\n",
       "   '武王曰善<lb/>\\n',\n",
       "   \"\\n<pb ed='SBCK' n='001-9b' xml:id='KR3a0007_SBCK_001-9b'/><lb/>\\n\",\n",
       "   '齊桓公問扵寗戚曰筦子今年老矣為<lb/>\\n',\n",
       "   '棄寡人而就世也吾恐法令不行人多<lb/>\\n',\n",
       "   '失職百姓疾怨國多盗賊吾何如而使<lb/>\\n',\n",
       "   '姦邪不起民足衣食乎寗戚對曰要在<lb/>\\n',\n",
       "   '得賢而任之桓公曰得賢奈何寗戚對<lb/>\\n',\n",
       "   '曰開其道路察而用之尊其位重其禄<lb/>\\n',\n",
       "   '顯其名則天下之士騷然舉足而至矣<lb/>\\n',\n",
       "   '桓公曰既以舉賢士而用之矣微夫子<lb/>\\n',\n",
       "   '幸而臨之則未有布衣屈竒之士踵門<lb/>\\n',\n",
       "   \"\\n<pb ed='SBCK' n='001-10a' xml:id='KR3a0007_SBCK_001-10a'/><lb/>\\n\",\n",
       "   '而求見寡人者寗戚對曰是君察之不<lb/>\\n',\n",
       "   '明舉之不顯而用之疑官之卑禄之薄<lb/>\\n',\n",
       "   '也且夫國之所以不得士者有五阻焉<lb/>\\n',\n",
       "   '主不好士謟諛在旁一阻也言便事者<lb/>\\n',\n",
       "   '未嘗見用二阻也壅塞掩蔽必因近習<lb/>\\n',\n",
       "   '然後見察三阻也訉獄詰窮其辭以法<lb/>\\n',\n",
       "   '過之四阻也執事適欲擅國權命五阻<lb/>\\n',\n",
       "   '也去此五阻則豪俊並興賢智来處五<lb/>\\n',\n",
       "   '阻不去則上蔽吏民之情下塞賢士之<lb/>\\n',\n",
       "   \"\\n<pb ed='SBCK' n='001-10b' xml:id='KR3a0007_SBCK_001-10b'/><lb/>\\n\",\n",
       "   '路是故明王聖主之治若夫江海無不<lb/>\\n',\n",
       "   '受故長為百川之主眀王聖君無不容<lb/>\\n',\n",
       "   '故安樂而長乆因此觀之則安主利人<lb/>\\n',\n",
       "   '者非獨一士也桓公曰善吾将著夫五<lb/>\\n',\n",
       "   '阻以為戒本也<lb/>\\n',\n",
       "   '齊景公問扵晏子曰寡人欲從夫子而<lb/>\\n',\n",
       "   '善齊國之政對曰嬰聞之國具官而后<lb/>\\n',\n",
       "   '政可善景公作色曰齊國雖小則何為<lb/>\\n',\n",
       "   '不具官乎對曰此非臣之所復也昔先<lb/>\\n',\n",
       "   \"\\n<pb ed='SBCK' n='001-11a' xml:id='KR3a0007_SBCK_001-11a'/><lb/>\\n\",\n",
       "   '君桓公身體墮懈辭令不給則隰朋侍<lb/>\\n',\n",
       "   '左右多過刑罰不中則弦章侍居處肆<lb/>\\n',\n",
       "   '縱左右懾畏則東郭牙侍田野不修人<lb/>\\n',\n",
       "   '民不安則寗戚侍軍吏怠戎士偷則王<lb/>\\n',\n",
       "   '子成父侍徳義不中信行衰微則筦子<lb/>\\n',\n",
       "   '侍先君能以人之長續其短以人之厚<lb/>\\n',\n",
       "   '𥙷其薄是以辭令窮逺而不逆兵加扵<lb/>\\n',\n",
       "   '有罪而不頓是故諸侯朝其徳而天子<lb/>\\n',\n",
       "   '致其胙今君之失多矣未有一士以聞<lb/>\\n',\n",
       "   \"\\n<pb ed='SBCK' n='001-11b' xml:id='KR3a0007_SBCK_001-11b'/><lb/>\\n\",\n",
       "   '者也故曰未具景公曰善吾聞髙繚與<lb/>\\n',\n",
       "   '夫子㳺寡人請見之晏子曰臣聞為地<lb/>\\n',\n",
       "   '戰者不能成王為禄仕者不能成政若<lb/>\\n',\n",
       "   '髙繚與嬰為兄弟久矣未嘗干嬰之過<lb/>\\n',\n",
       "   '補嬰之闕特禄仕之臣也何足以補君<lb/>\\n',\n",
       "   '燕昭王問扵郭隗曰寡人地狹人寡齊<lb/>\\n',\n",
       "   '人削取八城匈奴驅馳棲煩之下以孤<lb/>\\n',\n",
       "   '之不肖得承宗廟恐危社稷存之有道<lb/>\\n',\n",
       "   '乎郭隗曰有然恐王之不能用也昭王<lb/>\\n',\n",
       "   \"\\n<pb ed='SBCK' n='001-12a' xml:id='KR3a0007_SBCK_001-12a'/><lb/>\\n\",\n",
       "   '避席願請聞之郭隗曰帝者之臣其名<lb/>\\n',\n",
       "   '臣也其實師也王者之臣其名臣也其<lb/>\\n',\n",
       "   '實友也覇者之臣其名臣也其實賔也<lb/>\\n',\n",
       "   '危國之臣其名臣也其實虜也今王將<lb/>\\n',\n",
       "   '東面目指氣使以求臣則厮役之材至<lb/>\\n',\n",
       "   '矣南面聼朝不失揖讓之禮以求臣則<lb/>\\n',\n",
       "   '人臣之材至矣西面䓁禮相亢下之以<lb/>\\n',\n",
       "   '色不乗勢以求臣則朋友之材至矣北<lb/>\\n',\n",
       "   '面拘指逡廵而退以求臣則師傅之材<lb/>\\n',\n",
       "   \"\\n<pb ed='SBCK' n='001-12b' xml:id='KR3a0007_SBCK_001-12b'/><lb/>\\n\",\n",
       "   '至矣如此則上可以王下可以覇唯王<lb/>\\n',\n",
       "   '擇焉燕王曰寡人願學而無師郭隗曰<lb/>\\n',\n",
       "   '王誠欲興道隗請為天下之士開路扵<lb/>\\n',\n",
       "   '是燕王常置郭隗上坐南面居三年蘇<lb/>\\n',\n",
       "   '子聞之從周歸燕鄒衍聞之從齊歸燕<lb/>\\n',\n",
       "   '樂毅聞之從趙歸燕屈景聞之從楚歸<lb/>\\n',\n",
       "   '燕四子畢至果以弱燕并强齊夫燕齊<lb/>\\n',\n",
       "   '非均權敵戰之國也所以然者四子之<lb/>\\n',\n",
       "   '力也詩曰濟濟多士文王以寕此之謂也<lb/>\\n',\n",
       "   \"\\n<pb ed='SBCK' n='001-13a' xml:id='KR3a0007_SBCK_001-13a'/><lb/>\\n\",\n",
       "   '楚莊王既服鄭伯敗晋師将軍子重三<lb/>\\n',\n",
       "   '言而不當荘王歸過申侯之邑申侯進<lb/>\\n',\n",
       "   '飯日中而王不食申侯請罪荘王喟然<lb/>\\n',\n",
       "   '歎曰吾聞之其君賢者也而又有師者<lb/>\\n',\n",
       "   '王其君中君也而又有師者覇其君下<lb/>\\n',\n",
       "   '君也而群臣又莫若君者亡今我下君<lb/>\\n',\n",
       "   '也而群臣又莫若不榖不榖恐亾且世<lb/>\\n',\n",
       "   '不絶聖國不絶賢天下有賢而我獨不<lb/>\\n',\n",
       "   '得若吾生者何以食為故戰服大國義<lb/>\\n',\n",
       "   \"\\n<pb ed='SBCK' n='001-13b' xml:id='KR3a0007_SBCK_001-13b'/><lb/>\\n\",\n",
       "   '從諸侯戚然憂恐聖知不在乎身自惜<lb/>\\n',\n",
       "   '不肖思得賢佐日中忘飯可謂明君矣<lb/>\\n',\n",
       "   '明主者有三懼一曰處尊位而恐不聞<lb/>\\n',\n",
       "   '其過二曰得意而恐驕三曰聞天下之<lb/>\\n',\n",
       "   '至言而恐不能行何以識其然也越王<lb/>\\n',\n",
       "   '勾踐與吳人戰大敗之兼有九夷當是<lb/>\\n',\n",
       "   '時也南面而立近臣三逺臣五令群臣<lb/>\\n',\n",
       "   '曰聞吾過而不告者其罪刑此處尊位<lb/>\\n',\n",
       "   '而恐不聞其過者也昔者晉文公與楚<lb/>\\n',\n",
       "   \"\\n<pb ed='SBCK' n='001-14a' xml:id='KR3a0007_SBCK_001-14a'/><lb/>\\n\",\n",
       "   '人戰大勝之燒其軍火三日不滅文公<lb/>\\n',\n",
       "   '退而有憂色侍者曰君大勝楚今有憂<lb/>\\n',\n",
       "   '色何也文公曰吾聞能以戰勝而安者<lb/>\\n',\n",
       "   '其唯聖人乎若夫詐勝之徒未嘗不危<lb/>\\n',\n",
       "   '也吾是以憂此得意而恐驕也昔齊桓<lb/>\\n',\n",
       "   '公得筦仲隰朋辯其言説其義正月之<lb/>\\n',\n",
       "   '朝令具太牢進之先祖桓公西面而立<lb/>\\n',\n",
       "   '筦仲隰朋東面而立桓公賛曰自吾得<lb/>\\n',\n",
       "   '聽二子之言吾目加明耳加聦不敢獨<lb/>\\n',\n",
       "   \"\\n<pb ed='SBCK' n='001-14b' xml:id='KR3a0007_SBCK_001-14b'/><lb/>\\n\",\n",
       "   '擅願薦之先祖此聞天下之至言而恐<lb/>\\n',\n",
       "   '不能行者也<lb/>\\n',\n",
       "   '齊景公出獵上山見虎下澤見蛇歸召<lb/>\\n',\n",
       "   '晏子而問之曰今日寡人出獵上山則<lb/>\\n',\n",
       "   '見虎下澤則見蛇殆所謂之不祥也晏<lb/>\\n',\n",
       "   '子曰國有三不祥是不與焉夫有賢而<lb/>\\n',\n",
       "   '不知一不祥知而不用二不祥用而不<lb/>\\n',\n",
       "   '任三不祥也所謂不祥乃若此者也今<lb/>\\n',\n",
       "   '上山見虎虎之室也下澤見蛇蛇之穴<lb/>\\n',\n",
       "   \"\\n<pb ed='SBCK' n='001-15a' xml:id='KR3a0007_SBCK_001-15a'/><lb/>\\n\",\n",
       "   '也如虎之室如蛇之穴而見之曷為不<lb/>\\n',\n",
       "   '祥也<lb/>\\n',\n",
       "   '楚荘王好獵大夫諫曰晉楚敵國也楚<lb/>\\n',\n",
       "   '不謀晉晉必謀楚今王無乃耽扵樂乎<lb/>\\n',\n",
       "   '王曰吾獵将以求士也其榛藂剌虎豹<lb/>\\n',\n",
       "   '者吾是以知其勇也其攫犀搏兕者吾<lb/>\\n',\n",
       "   '是以知其劲有力也罷田而分所得吾<lb/>\\n',\n",
       "   '是以知其仁也因是道也而得三士焉<lb/>\\n',\n",
       "   '楚國以安故曰苟有志則無非事者此<lb/>\\n',\n",
       "   \"\\n<pb ed='SBCK' n='001-15b' xml:id='KR3a0007_SBCK_001-15b'/><lb/>\\n\",\n",
       "   '之謂也<lb/>\\n',\n",
       "   '湯之時大旱七年雒坼川竭煎沙爛石<lb/>\\n',\n",
       "   '扵是使人持三足鼎祝山川教之祝曰<lb/>\\n',\n",
       "   '政不節耶使人疾耶苞苴行耶讒夫昌<lb/>\\n',\n",
       "   '耶宫室營耶女謁盛耶何不雨之極也<lb/>\\n',\n",
       "   '盖言未已而天大雨故天之應人如影<lb/>\\n',\n",
       "   '之隨形響之効聲者也詩云上下奠瘞<lb/>\\n',\n",
       "   '靡神不宗言疾旱也<lb/>\\n',\n",
       "   '殷太戊時有桑榖生扵庭昬而生比旦<lb/>\\n',\n",
       "   \"\\n<pb ed='SBCK' n='001-16a' xml:id='KR3a0007_SBCK_001-16a'/><lb/>\\n\",\n",
       "   '而拱史請卜之湯廟太戊從之卜者曰<lb/>\\n',\n",
       "   '吾聞之祥者福之先者也見祥而為不<lb/>\\n',\n",
       "   '善則福不生殃者禍之先者也見殃而<lb/>\\n',\n",
       "   '能為善則禍不至扵是乃早朝而晏退<lb/>\\n',\n",
       "   '問疾弔喪三日而桑榖自亡<lb/>\\n',\n",
       "   '髙宗者武丁也髙而宗之故號髙宗成<lb/>\\n',\n",
       "   '湯之後先王道缺刑法違犯桑榖俱生<lb/>\\n',\n",
       "   '乎朝七日而大拱武丁召其相而問焉<lb/>\\n',\n",
       "   '其相曰吾雖知之吾弗得言也聞諸祖<lb/>\\n',\n",
       "   \"\\n<pb ed='SBCK' n='001-16b' xml:id='KR3a0007_SBCK_001-16b'/><lb/>\\n\",\n",
       "   '已桑榖者野草也而生扵朝意者國亡<lb/>\\n',\n",
       "   '乎武丁恐駭飭身修行思先王之政興<lb/>\\n',\n",
       "   '滅國繼絶世舉逸民明養老三年之後<lb/>\\n',\n",
       "   '蠻夷重譯而朝者七國此之謂存亡繼<lb/>\\n',\n",
       "   '絶之主是以髙而尊之也<lb/>\\n',\n",
       "   '宋大水魯人弔之曰天降滛雨谿谷滿<lb/>\\n',\n",
       "   '盈延及君地以憂執政使臣敬弔宋人<lb/>\\n',\n",
       "   '應之曰寡人不佞齋戒不謹邑封不修<lb/>\\n',\n",
       "   '使人不時天加以殃又遺君憂拜命之<lb/>\\n',\n",
       "   \"\\n<pb ed='SBCK' n='001-17a' xml:id='KR3a0007_SBCK_001-17a'/><lb/>\\n\",\n",
       "   '辱君子聞之曰宋國其庶㡬乎問曰何<lb/>\\n',\n",
       "   '謂也曰昔者夏桀殷紂不任其過其亾<lb/>\\n',\n",
       "   '也忽焉成湯文武知任其過其興也勃<lb/>\\n',\n",
       "   '焉夫過而改之是猶不過也故曰其庶<lb/>\\n',\n",
       "   '㡬乎宋人聞之夙興夜寐早朝晏退弔<lb/>\\n',\n",
       "   '死問疾戮力宇内三年歲豐政平嚮使<lb/>\\n',\n",
       "   '宋人不聞君子之語則年榖未豐而國<lb/>\\n',\n",
       "   '未寕詩曰佛時仔肩示我顯徳行此之<lb/>\\n',\n",
       "   '謂也<lb/>\\n',\n",
       "   \"\\n<pb ed='SBCK' n='001-17b' xml:id='KR3a0007_SBCK_001-17b'/><lb/>\\n\",\n",
       "   '楚昭王有疾卜之曰河為祟大夫請用<lb/>\\n',\n",
       "   '三牲焉王曰止古者先王割地制土祭<lb/>\\n',\n",
       "   '不過望江漢睢漳楚之望也禍福之至<lb/>\\n',\n",
       "   '不是過也不榖雖不徳河非所獲罪也<lb/>\\n',\n",
       "   '遂不祭焉仲尼聞之曰昭王可謂知天<lb/>\\n',\n",
       "   '道矣其不失國冝哉<lb/>\\n',\n",
       "   '楚昭王之時有雲如飛鳥夾日而飛三<lb/>\\n',\n",
       "   '日昭王患之使人乗馹東而問諸太史<lb/>\\n',\n",
       "   '州黎州黎曰將虐扵王身以令尹司馬<lb/>\\n',\n",
       "   \"\\n<pb ed='SBCK' n='001-18a' xml:id='KR3a0007_SBCK_001-18a'/><lb/>\\n\",\n",
       "   '説焉則可令尹司馬聞之宿齋沐浴將<lb/>\\n',\n",
       "   '自以身禱之焉王曰止楚國之有不榖<lb/>\\n',\n",
       "   '也由身之有匈脇也其有令尹司馬也<lb/>\\n',\n",
       "   '由身之有股肱也匈脇有疾轉之股肱<lb/>\\n',\n",
       "   '庸為去是人也<lb/>\\n',\n",
       "   '邾文公卜徙扵繹史曰利扵民不利扵<lb/>\\n',\n",
       "   '君君曰苟利扵民寡人之利也天生蒸<lb/>\\n',\n",
       "   '民而樹之君以利之也民既利矣孤必<lb/>\\n',\n",
       "   '與焉侍者曰命可長也君胡不為君曰<lb/>\\n',\n",
       "   \"\\n<pb ed='SBCK' n='001-18b' xml:id='KR3a0007_SBCK_001-18b'/><lb/>\\n\",\n",
       "   '命在牧民死之短長時也民苟利矣吉<lb/>\\n',\n",
       "   '孰大焉遂徙扵繹<lb/>\\n',\n",
       "   '楚荘王見天不見妖而地不出孽則禱<lb/>\\n',\n",
       "   '扵山川曰天其忘予歟此能求過扵天<lb/>\\n',\n",
       "   '必不逆諫矣安不忘危故能終而成覇<lb/>\\n',\n",
       "   '功焉<lb/>\\n',\n",
       "   '湯曰藥食先嘗扵卑然後至扵貴藥言<lb/>\\n',\n",
       "   '先獻扵貴然後聞扵卑故藥食甞乎卑<lb/>\\n',\n",
       "   '然後至乎貴教也藥言獻扵貴然後聞<lb/>\\n',\n",
       "   \"\\n<pb ed='SBCK' n='001-19a' xml:id='KR3a0007_SBCK_001-19a'/><lb/>\\n\",\n",
       "   '扵卑道也故使人味食然後食者其得<lb/>\\n',\n",
       "   '味也多使人味言然後聞言者其得言<lb/>\\n',\n",
       "   '也少是以眀上之言必自他聼之必自<lb/>\\n',\n",
       "   '他聞之必自他擇之必自他取之必自<lb/>\\n',\n",
       "   '他聚之必自他蔵之必自他行之故道<lb/>\\n',\n",
       "   '以數取之為明以數行之為章以數施<lb/>\\n',\n",
       "   '之萬物為蔵是故求道者不以目而以<lb/>\\n',\n",
       "   '心取道者不以手而以耳<lb/>\\n',\n",
       "   '楚文王有疾告大夫曰筦饒犯我以義<lb/>\\n',\n",
       "   \"\\n<pb ed='SBCK' n='001-19b' xml:id='KR3a0007_SBCK_001-19b'/><lb/>\\n\",\n",
       "   '違我以禮與處不安不見不思然吾有<lb/>\\n',\n",
       "   '得焉必以吾時爵之申侯伯吾所欲者<lb/>\\n',\n",
       "   '勸我為之吾所樂者先我行之與處則<lb/>\\n',\n",
       "   '安不見則思然吾有喪焉必以吾時遣<lb/>\\n',\n",
       "   '之大夫許諾乃爵筦饒以大夫贈申侯<lb/>\\n',\n",
       "   '伯而行之申侯伯将之鄭王曰必戒之<lb/>\\n',\n",
       "   '矣而為人也不仁而欲得人之政毋以<lb/>\\n',\n",
       "   '之魯衛宋鄭不聽遂之鄭三年而得鄭<lb/>\\n',\n",
       "   '國之政五月而鄭人殺之<lb/>\\n',\n",
       "   \"\\n<pb ed='SBCK' n='001-20a' xml:id='KR3a0007_SBCK_001-20a'/><lb/>\\n\",\n",
       "   '趙簡子與欒激逰将沉扵河曰吾嘗好<lb/>\\n',\n",
       "   '聲色矣而欒激致之吾嘗好宫室臺榭<lb/>\\n',\n",
       "   '矣而欒激為之吾嘗好良馬善御矣而<lb/>\\n',\n",
       "   '欒激求之今吾好士六年矣而欒激未<lb/>\\n',\n",
       "   '嘗進一人是進吾過而黜吾善也<lb/>\\n',\n",
       "   '或謂趙簡子曰君何不更乎簡子曰諾<lb/>\\n',\n",
       "   '左右曰君未有過何更君曰吾謂是諾<lb/>\\n',\n",
       "   '未必有過也吾将求以來諫者也今我<lb/>\\n',\n",
       "   '却之是却諫者諫者必止我過無日矣<lb/>\\n',\n",
       "   \"\\n<pb ed='SBCK' n='001-20b' xml:id='KR3a0007_SBCK_001-20b'/><lb/>\\n\",\n",
       "   '韓武子田獸已聚矣田車合矣傳來告<lb/>\\n',\n",
       "   '曰晉公薨武子謂欒懷子曰子亦知君<lb/>\\n',\n",
       "   '好田獵也獸已聚矣田車合矣吾可以<lb/>\\n',\n",
       "   '卒獵而後弔乎懷子對曰苑氏之亾也<lb/>\\n',\n",
       "   '多輔而少拂今臣扵君輔也畾扵君拂<lb/>\\n',\n",
       "   '也君胡不問扵畾也武子曰盈而欲拂<lb/>\\n',\n",
       "   '我乎而拂我矣何必畾哉遂輟田<lb/>\\n',\n",
       "   '師經皷琴魏文侯起舞賦曰使我言而<lb/>\\n',\n",
       "   '無見違師經援琴而撞文侯不中中旒<lb/>\\n',\n",
       "   \"\\n<pb ed='SBCK' n='001-21a' xml:id='KR3a0007_SBCK_001-21a'/><lb/>\\n\",\n",
       "   '潰之文侯謂左右曰為人臣而撞其君<lb/>\\n',\n",
       "   '其罪如何左右曰罪當烹提師經下堂<lb/>\\n',\n",
       "   '一䓁師經曰臣可一言而死乎文侯曰<lb/>\\n',\n",
       "   '可師經曰昔堯舜之為君也唯恐言而<lb/>\\n',\n",
       "   '人不違桀紂之為君也唯恐言而人違<lb/>\\n',\n",
       "   '之臣撞桀紂非撞吾君也文侯曰釋之<lb/>\\n',\n",
       "   '是寡人之過也懸琴扵城門以為寡人<lb/>\\n',\n",
       "   '符不補旒以為寡人戒<lb/>\\n',\n",
       "   '齊景公游扵蔞聞晏子卒公乗輿素服<lb/>\\n',\n",
       "   \"\\n<pb ed='SBCK' n='001-21b' xml:id='KR3a0007_SBCK_001-21b'/><lb/>\\n\",\n",
       "   '馹而驅之自以為遲下車而趨知不若<lb/>\\n',\n",
       "   '車之速則又乗比至扵國者四下而趨<lb/>\\n',\n",
       "   '行哭而徃矣至伏屍而號曰子大夫日<lb/>\\n',\n",
       "   '夜責寡人不遺尺寸寡人猶且淫佚而<lb/>\\n',\n",
       "   '不收怨罪重積扵百姓今天降禍扵齊<lb/>\\n',\n",
       "   '國不加寡人而加夫子齊國之社稷危<lb/>\\n',\n",
       "   '矣百姓将誰告矣<lb/>\\n',\n",
       "   '晏子没十有七年景公飲諸大夫酒公<lb/>\\n',\n",
       "   '射出質堂上唱善若出一口公作色太<lb/>\\n',\n",
       "   \"\\n<pb ed='SBCK' n='001-22a' xml:id='KR3a0007_SBCK_001-22a'/><lb/>\\n\",\n",
       "   '息播弓矢弦章入公曰章自吾失晏子<lb/>\\n',\n",
       "   '扵今十有七年未嘗聞吾過不善今射<lb/>\\n',\n",
       "   '出質而唱善者若出一口弦章對曰此<lb/>\\n',\n",
       "   '諸臣之不肖也知不足以知君之不善<lb/>\\n',\n",
       "   '勇不足以犯君之顔色然而有一焉臣<lb/>\\n',\n",
       "   '聞之君好之則臣服之君嗜之則臣食<lb/>\\n',\n",
       "   '之夫尺蠖食黄則其身黄食蒼則其身<lb/>\\n',\n",
       "   '蒼君其猶有謟人言乎公曰善今日之<lb/>\\n',\n",
       "   '言章為君我為臣是時海人入魚公以<lb/>\\n',\n",
       "   \"\\n<pb ed='SBCK' n='001-22b' xml:id='KR3a0007_SBCK_001-22b'/><lb/>\\n\",\n",
       "   '五十乗賜弦章歸魚乗塞塗撫其御之<lb/>\\n',\n",
       "   '手曰曩之唱善者皆欲若魚者也昔者<lb/>\\n',\n",
       "   '晏子辭賞以正君故過失不掩今諸臣<lb/>\\n',\n",
       "   '謟諛以干利故出質而唱善如出一口<lb/>\\n',\n",
       "   '今所輔扵君未見扵衆而受若魚是反<lb/>\\n',\n",
       "   '晏子之義而順謟䛕之欲也固辭魚不<lb/>\\n',\n",
       "   '受君子曰弦章之亷乃晏子之遺行也<lb/>\\n',\n",
       "   '夫天之生人也盖非以為君也天之立<lb/>\\n',\n",
       "   '君也盖非以為位也夫為人君行其私<lb/>\\n',\n",
       "   \"\\n<pb ed='SBCK' n='001-23a' xml:id='KR3a0007_SBCK_001-23a'/><lb/>\\n\",\n",
       "   '欲而不顧其人是不承天意忘其位之<lb/>\\n',\n",
       "   '所以冝事也如此者春秋不予能君而<lb/>\\n',\n",
       "   '夷狄之鄭伯惡一人而兼棄其師故有<lb/>\\n',\n",
       "   '夷狄不君之辭人主不以此自省惟既<lb/>\\n',\n",
       "   '以失實心奚因知之故曰有國者不可<lb/>\\n',\n",
       "   '以不學春秋此之謂也<lb/>\\n',\n",
       "   '齊人弑其君魯㐮公援戈而起曰孰臣<lb/>\\n',\n",
       "   '而敢殺其君乎師懼曰夫齊君治之不<lb/>\\n',\n",
       "   '能任之不肖縱一人之欲以虐萬夫之<lb/>\\n',\n",
       "   \"\\n<pb ed='SBCK' n='001-23b' xml:id='KR3a0007_SBCK_001-23b'/><lb/>\\n\",\n",
       "   '性非所以立君也其身死自取之也今<lb/>\\n',\n",
       "   '君不愛萬夫之命而傷一人之死奚其<lb/>\\n',\n",
       "   '過也其臣已無道矣其君亦不足惜也<lb/>\\n',\n",
       "   '孔子曰文王似元年武王似春王周公<lb/>\\n',\n",
       "   '似正月文王以王季為父以太任為母<lb/>\\n',\n",
       "   '以太姒為妃以武王周公為子以㤗顛<lb/>\\n',\n",
       "   '閎夭為臣其本美矣武王正其身以正<lb/>\\n',\n",
       "   '其國正其國以正天下伐無道刑有罪<lb/>\\n',\n",
       "   '一動天下正其事正矣春致其時萬物<lb/>\\n',\n",
       "   \"\\n<pb ed='SBCK' n='001-24a' xml:id='KR3a0007_SBCK_001-24a'/><lb/>\\n\",\n",
       "   '皆及生君致其道萬人皆及治周公戴<lb/>\\n',\n",
       "   '已而天下順之其誠至矣<lb/>\\n',\n",
       "   '尊君卑臣者以勢使之也夫勢失則權<lb/>\\n',\n",
       "   '傾故天子失道則諸侯尊矣諸侯失政<lb/>\\n',\n",
       "   '則大夫起矣大夫失官則庶人興矣由<lb/>\\n',\n",
       "   '是觀之上不失而下得者未嘗有也<lb/>\\n',\n",
       "   '孔子曰夏道不亾商徳不作啇徳不亾<lb/>\\n',\n",
       "   '周徳不作周徳不亡春秋不作春秋作<lb/>\\n',\n",
       "   '而後君子知周道亾也故上下相虧也<lb/>\\n',\n",
       "   \"\\n<pb ed='SBCK' n='001-24b' xml:id='KR3a0007_SBCK_001-24b'/><lb/>\\n\",\n",
       "   '猶水火之相滅也人君不可不察而大<lb/>\\n',\n",
       "   '盛其臣下此私門盛而公家毁也人君<lb/>\\n',\n",
       "   '不察焉則國家危殆矣筦子曰權不兩<lb/>\\n',\n",
       "   '錯政不二門故曰脛大於股者難以歩<lb/>\\n',\n",
       "   '指大於臂者難以把本小末大不能相<lb/>\\n',\n",
       "   '使也<lb/>\\n',\n",
       "   '司城子罕相宋謂宋君曰國家之危定<lb/>\\n',\n",
       "   '百姓之治亂在君行之賞罰也賞當則<lb/>\\n',\n",
       "   '賢人勸罰得則姦人止賞罰不當則賢<lb/>\\n',\n",
       "   \"\\n<pb ed='SBCK' n='001-25a' xml:id='KR3a0007_SBCK_001-25a'/><lb/>\\n\",\n",
       "   '人不勸姦人不止姦邪比周欺上蔽主<lb/>\\n',\n",
       "   '以爭爵禄不可不慎也夫賞賜譲與者<lb/>\\n',\n",
       "   '人之所好也君自行之刑罰殺戮者人<lb/>\\n',\n",
       "   '之所惡也臣請當之君曰善子主其惡<lb/>\\n',\n",
       "   '寡人行其善吾知不為諸侯笑矣扵是<lb/>\\n',\n",
       "   '宋君行賞賜而與子罕刑罰國人知刑<lb/>\\n',\n",
       "   '戮之威專在子罕也大臣親之百姓附<lb/>\\n',\n",
       "   '之居期年子罕逐其君而專其政故曰<lb/>\\n',\n",
       "   '無弱君而强大夫老子曰魚不可脱於<lb/>\\n',\n",
       "   \"\\n<pb ed='SBCK' n='001-25b' xml:id='KR3a0007_SBCK_001-25b'/><lb/>\\n\",\n",
       "   '淵國之利器不可以借人此之謂也<lb/>\\n'],\n",
       "  ['']],\n",
       " 'TITLE': '説苑',\n",
       " 'DATE': '2015-09-11 03:50:01.111952',\n",
       " 'ID': 'KR3a0007',\n",
       " 'BASEEDITION': 'SBCK',\n",
       " 'WITNESS': 'SBCK',\n",
       " 'JUAN': '1',\n",
       " 'FILE': 'SB03n0121-001説苑-卷第一.'}"
      ]
     },
     "execution_count": 15,
     "metadata": {},
     "output_type": "execute_result"
    }
   ],
   "source": [
    "importlib.reload(kr2tei)\n",
    "gjd = {}\n",
    "lx=kr2tei.parse_text_to_p(lines, gjd)\n",
    "lx"
   ]
  },
  {
   "cell_type": "code",
   "execution_count": 18,
   "metadata": {},
   "outputs": [
    {
     "name": "stdout",
     "output_type": "stream",
     "text": [
      "Importing environment from .env...\n"
     ]
    }
   ],
   "source": [
    "importlib.reload(kr2tei)\n",
    "gjd = {}\n",
    "branch=\"master\"\n",
    "path=\"KR3a0007_001.txt\"\n",
    "lx=kr2tei.parse_text_to_p(lines, gjd)\n",
    "kr2tei.save_text_part(lx, \"KR3a0007\", branch, path)"
   ]
  },
  {
   "cell_type": "code",
   "execution_count": 67,
   "metadata": {},
   "outputs": [
    {
     "name": "stdout",
     "output_type": "stream",
     "text": [
      "SBCK\n",
      "WYG\n",
      "master\n"
     ]
    }
   ],
   "source": [
    "importlib.reload(kr2tei)\n",
    "import requests\n",
    "txtid=\"KR3a0007\"\n",
    "user='kanripo'\n",
    "branches=[a.name for a in hs.get_branches() if not a.name.startswith(\"_\")]\n",
    "for branch in branches:\n",
    "        print(branch)\n",
    "        flist = [a.path for a in hs.get_contents(\"/\", ref=branch)]\n",
    "        pdic = {}\n",
    "        md = False\n",
    "        xi=[]\n",
    "        for path in flist:\n",
    "            if path.startswith(txtid):\n",
    "                r=requests.get(f\"https://raw.githubusercontent.com/{user}/{txtid}/{branch}/{path}\")\n",
    "                if r.status_code == 200:\n",
    "                    cont=r.content.decode(r.encoding)\n",
    "                    if \"<md:\" in cont:\n",
    "                        md = True\n",
    "                    lines=cont.split(\"\\n\")\n",
    "                    lx = kr2tei.parse_text(lines, md)\n",
    "                    kr2tei.save_text_part(lx, txtid, branch, path)\n",
    "                else:\n",
    "                    pass\n",
    "                pdic[path] = lx\n"
   ]
  },
  {
   "cell_type": "code",
   "execution_count": 68,
   "metadata": {},
   "outputs": [],
   "source": [
    "        importlib.reload(kr2tei)\n",
    "        import datetime\n",
    "        date=datetime.datetime.now()\n",
    "        today=f\"{date:%Y-%m-%d}\"\n",
    "        sd=\"\"\n",
    "        for f in pdic.keys():\n",
    "            fn = f[:-4]\n",
    "            #b=pdic[f]\n",
    "            sd+=f\"<xi:include href='{fn}.xml' xmlns:xi='http://www.w3.org/2001/XInclude'/>\\n\"\n",
    "        lx=pdic[f]\n",
    "        fname = f\"{txtid}/xml/{branch}/{txtid}.xml\"\n",
    "        out=kr2tei.tei_template.format(sd=sd, today=today, user=user, txtid=txtid, title=lx['TITLE'], date=lx['DATE'], branch=branch)\n",
    "        of=open(fname, \"w\")\n",
    "        of.write(out)\n",
    "        of.close()\n"
   ]
  },
  {
   "cell_type": "code",
   "execution_count": 42,
   "metadata": {},
   "outputs": [
    {
     "ename": "NameError",
     "evalue": "name 'repo' is not defined",
     "output_type": "error",
     "traceback": [
      "\u001b[0;31m---------------------------------------------------------------------------\u001b[0m",
      "\u001b[0;31mNameError\u001b[0m                                 Traceback (most recent call last)",
      "\u001b[0;32m<ipython-input-42-50e62d3cb3f7>\u001b[0m in \u001b[0;36m<module>\u001b[0;34m\u001b[0m\n\u001b[1;32m      3\u001b[0m \u001b[0mbranch\u001b[0m\u001b[0;34m=\u001b[0m\u001b[0;34m\"master\"\u001b[0m\u001b[0;34m\u001b[0m\u001b[0;34m\u001b[0m\u001b[0m\n\u001b[1;32m      4\u001b[0m \u001b[0mpath\u001b[0m\u001b[0;34m=\u001b[0m\u001b[0;34m\"KR6c0128-test/KR6c0128_000.txt\"\u001b[0m\u001b[0;34m\u001b[0m\u001b[0;34m\u001b[0m\u001b[0m\n\u001b[0;32m----> 5\u001b[0;31m \u001b[0mghrawurl\u001b[0m\u001b[0;34m=\u001b[0m\u001b[0;34mf\"https://raw.githubusercontent.com/{user}/{repo}/{branch}/{path}\"\u001b[0m\u001b[0;34m\u001b[0m\u001b[0;34m\u001b[0m\u001b[0m\n\u001b[0m\u001b[1;32m      6\u001b[0m \u001b[0mprint\u001b[0m \u001b[0;34m(\u001b[0m\u001b[0mghrawurl\u001b[0m\u001b[0;34m)\u001b[0m\u001b[0;34m\u001b[0m\u001b[0;34m\u001b[0m\u001b[0m\n",
      "\u001b[0;31mNameError\u001b[0m: name 'repo' is not defined"
     ]
    }
   ],
   "source": [
    "#newkrp/master/KR6c0128-test/KR6c0128_000.txt\n",
    "user=\"kanripo\"\n",
    "branch=\"master\"\n",
    "path=\"KR6c0128-test/KR6c0128_000.txt\"\n",
    "ghrawurl=f\"https://raw.githubusercontent.com/{user}/{repo}/{branch}/{path}\"\n",
    "print (ghrawurl)"
   ]
  },
  {
   "cell_type": "code",
   "execution_count": 49,
   "metadata": {},
   "outputs": [
    {
     "data": {
      "text/plain": [
       "\"理益掌<g ref='#KR1783'/>禽堯體力便巧不能為一焉\""
      ]
     },
     "execution_count": 49,
     "metadata": {},
     "output_type": "execute_result"
    }
   ],
   "source": [
    "import re\n",
    "l=\"理益掌&KR1783;禽堯體力便巧不能為一焉\"\n",
    "re.sub(\"&([^;]+);\", \"<g ref='#\\\\1'/>\", l)"
   ]
  },
  {
   "cell_type": "code",
   "execution_count": null,
   "metadata": {},
   "outputs": [],
   "source": [
    "import requests\n",
    "r=requests.get(f\"https://raw.githubusercontent.com/{user}/{repo}/{branch}/{path}\")\n",
    "print (len(r.content))"
   ]
  },
  {
   "cell_type": "code",
   "execution_count": null,
   "metadata": {},
   "outputs": [],
   "source": [
    "cont=r.content.decode(r.encoding)\n"
   ]
  },
  {
   "cell_type": "code",
   "execution_count": null,
   "metadata": {},
   "outputs": [],
   "source": [
    "len(cont)"
   ]
  },
  {
   "cell_type": "code",
   "execution_count": null,
   "metadata": {},
   "outputs": [],
   "source": [
    "lines=cont.split(\"\\n\")\n",
    "len(lines)"
   ]
  },
  {
   "cell_type": "code",
   "execution_count": null,
   "metadata": {},
   "outputs": [],
   "source": [
    "def get_property(p):\n",
    "    p = p[2:]\n",
    "    pp = p.split(\": \")\n",
    "    if pp[0] in [\"DATE\", \"TITLE\"]:\n",
    "        return (pp[0], pp[1])\n",
    "    elif pp[0] == \"PROPERTY\":\n",
    "        p1 = pp[1].split()\n",
    "        return (p1[0], \" \".join(p1[1:]))\n",
    "    return pp"
   ]
  },
  {
   "cell_type": "code",
   "execution_count": null,
   "metadata": {},
   "outputs": [],
   "source": [
    "get_property(lines[5])\n",
    "import re"
   ]
  },
  {
   "cell_type": "code",
   "execution_count": null,
   "metadata": {},
   "outputs": [],
   "source": [
    "lx={}\n",
    "lcnt=0\n",
    "nl=[]\n",
    "np=[]\n",
    "for l in lines:\n",
    "    if l.startswith(\"#+\"):\n",
    "        p = get_property(l)\n",
    "        lx[p[0]] = p[1]\n",
    "        continue\n",
    "    elif l.startswith(\"#\"):\n",
    "        continue\n",
    "    elif \"<pb:\" in l:\n",
    "        l=re.sub(\"<pb:([^_]+)_([^_]+)_([^>]+)>\", \"<pb ed='\\\\2' n='\\\\3' xml:id='\\\\1-\\\\2-\\\\3'/>\", l)\n",
    "        lcnt = 0\n",
    "    if \"\" in l:\n",
    "        lcnt += 1\n",
    "        l=re.sub(\"¶\", f\"\\n<lb n='{lcnt}'/>\", l)\n",
    "    if l == \"\":\n",
    "        np.append(nl)\n",
    "        nl=[]\n",
    "    else:\n",
    "        nl.append(l)"
   ]
  },
  {
   "cell_type": "code",
   "execution_count": null,
   "metadata": {},
   "outputs": [],
   "source": [
    "re.sub(\"<pb:([^_]+)_([^_]+)_([^>]+)>\", \"<pb ed='\\\\2' n='\\\\3' xml:id='\\\\1-\\\\2-\\\\3'/>\", lx[\"LASTPB\"])"
   ]
  },
  {
   "cell_type": "code",
   "execution_count": null,
   "metadata": {},
   "outputs": [],
   "source": [
    "import importlib\n",
    "importlib.reload(kr2tei)\n"
   ]
  },
  {
   "cell_type": "code",
   "execution_count": null,
   "metadata": {},
   "outputs": [],
   "source": [
    "pdic={}\n",
    "lx = kr2tan.parse_text(lines)\n",
    "pdic[\"KR6c0128_001.txt\"] = lx"
   ]
  },
  {
   "cell_type": "code",
   "execution_count": null,
   "metadata": {},
   "outputs": [],
   "source": [
    "import datetime\n",
    "date=datetime.datetime.now()\n",
    "today=f\"{date:%Y-%m-%d}\"\n",
    "body=\"\"\n",
    "jcnt = 0\n",
    "for b in pdic:\n",
    "    jcnt += 1\n",
    "    s=f\"<div type='j' n='{jcnt}'>\\n\"\n",
    "    pcnt = 0\n",
    "    for lx in pdic[b]['TEXT']:\n",
    "        pcnt += 1\n",
    "        s+=f\"<div type='p' n='{pcnt}'>\"\n",
    "        lcnt = 0\n",
    "        for l in lx:\n",
    "            lcnt +=1\n",
    "            l=re.sub(\"<lb[^>]+>\", \"\", l)\n",
    "            s+=f\"<div type='l' n='{lcnt}'>{l}</div>\"\n",
    "        s+=\"</div>\"\n",
    "    s+=\"</div>\"\n",
    "    body += s\n",
    "lx=pdic[b]\n",
    "out=kr2tan.tan_t.format(body=body, today=today, user=\"kanripo\", txtid=\"KR6c0128\", title=lx['TITLE'], date=lx['DATE'], branch=\"master\")"
   ]
  },
  {
   "cell_type": "code",
   "execution_count": 25,
   "metadata": {},
   "outputs": [
    {
     "data": {
      "text/plain": [
       "[ContentFile(path=\".gitignore\"),\n",
       " ContentFile(path=\"KR3a0007_000.txt\"),\n",
       " ContentFile(path=\"KR3a0007_001.txt\"),\n",
       " ContentFile(path=\"KR3a0007_002.txt\"),\n",
       " ContentFile(path=\"KR3a0007_003.txt\"),\n",
       " ContentFile(path=\"KR3a0007_004.txt\"),\n",
       " ContentFile(path=\"KR3a0007_005.txt\"),\n",
       " ContentFile(path=\"KR3a0007_006.txt\"),\n",
       " ContentFile(path=\"KR3a0007_007.txt\"),\n",
       " ContentFile(path=\"KR3a0007_008.txt\"),\n",
       " ContentFile(path=\"KR3a0007_009.txt\"),\n",
       " ContentFile(path=\"KR3a0007_010.txt\"),\n",
       " ContentFile(path=\"KR3a0007_011.txt\"),\n",
       " ContentFile(path=\"KR3a0007_012.txt\"),\n",
       " ContentFile(path=\"KR3a0007_013.txt\"),\n",
       " ContentFile(path=\"KR3a0007_014.txt\"),\n",
       " ContentFile(path=\"KR3a0007_015.txt\"),\n",
       " ContentFile(path=\"KR3a0007_016.txt\"),\n",
       " ContentFile(path=\"KR3a0007_017.txt\"),\n",
       " ContentFile(path=\"KR3a0007_018.txt\"),\n",
       " ContentFile(path=\"KR3a0007_019.txt\"),\n",
       " ContentFile(path=\"KR3a0007_020.txt\"),\n",
       " ContentFile(path=\"Readme.org\")]"
      ]
     },
     "execution_count": 25,
     "metadata": {},
     "output_type": "execute_result"
    }
   ],
   "source": [
    "ct"
   ]
  },
  {
   "cell_type": "code",
   "execution_count": null,
   "metadata": {},
   "outputs": [],
   "source": [
    "lp=pdic['KR6c0128_001.txt']['LASTPB']\n",
    "lp[4:-1].split(\"_\")[-1]"
   ]
  },
  {
   "cell_type": "code",
   "execution_count": null,
   "metadata": {},
   "outputs": [],
   "source": [
    "for p in np:\n",
    "    print (\"<p>\", \"\".join(p), \"</p>\")"
   ]
  },
  {
   "cell_type": "code",
   "execution_count": null,
   "metadata": {},
   "outputs": [],
   "source": []
  },
  {
   "cell_type": "code",
   "execution_count": null,
   "metadata": {},
   "outputs": [],
   "source": [
    "hs.branches_url"
   ]
  },
  {
   "cell_type": "code",
   "execution_count": null,
   "metadata": {},
   "outputs": [],
   "source": [
    "b=[a.name for a in hs.get_branches() if not a.name.startswith(\"_\")]"
   ]
  },
  {
   "cell_type": "code",
   "execution_count": null,
   "metadata": {},
   "outputs": [],
   "source": [
    "b"
   ]
  },
  {
   "cell_type": "code",
   "execution_count": null,
   "metadata": {},
   "outputs": [],
   "source": [
    "import env"
   ]
  },
  {
   "cell_type": "code",
   "execution_count": null,
   "metadata": {},
   "outputs": [],
   "source": [
    "from dotenv import load_dotenv\n",
    "load_dotenv()\n",
    "import os"
   ]
  },
  {
   "cell_type": "code",
   "execution_count": null,
   "metadata": {},
   "outputs": [],
   "source": [
    "os.environ.get('at')"
   ]
  },
  {
   "cell_type": "code",
   "execution_count": null,
   "metadata": {},
   "outputs": [],
   "source": [
    "help(hs.get_contents)"
   ]
  },
  {
   "cell_type": "code",
   "execution_count": null,
   "metadata": {},
   "outputs": [],
   "source": [
    "[a.path for a in hs.get_contents(\"/\", ref=\"master\")]"
   ]
  },
  {
   "cell_type": "code",
   "execution_count": null,
   "metadata": {},
   "outputs": [],
   "source": [
    "import datetime\n",
    "print (datetime.datetime.now)"
   ]
  },
  {
   "cell_type": "code",
   "execution_count": null,
   "metadata": {},
   "outputs": [],
   "source": [
    "help(datetime.datetime.strftime)"
   ]
  },
  {
   "cell_type": "code",
   "execution_count": null,
   "metadata": {},
   "outputs": [],
   "source": [
    "date=datetime.datetime.now()"
   ]
  },
  {
   "cell_type": "code",
   "execution_count": null,
   "metadata": {},
   "outputs": [],
   "source": [
    "\"{date!s}\".format(date=datetime.datetime.now())"
   ]
  },
  {
   "cell_type": "code",
   "execution_count": null,
   "metadata": {},
   "outputs": [],
   "source": [
    "repo"
   ]
  },
  {
   "cell_type": "code",
   "execution_count": null,
   "metadata": {},
   "outputs": [],
   "source": [
    "import ctext\n",
    "zh=ctext.gettext(\"ctp:ws26\")"
   ]
  },
  {
   "cell_type": "code",
   "execution_count": null,
   "metadata": {},
   "outputs": [],
   "source": [
    "zhnb=zh\n",
    "zhwb=ctext.gettext(\"ctp:ws27\")\n",
    "zhzb=ctext.gettext(\"ctp:ws28\")"
   ]
  },
  {
   "cell_type": "code",
   "execution_count": null,
   "metadata": {},
   "outputs": [],
   "source": [
    "len(zhwb)"
   ]
  },
  {
   "cell_type": "code",
   "execution_count": null,
   "metadata": {},
   "outputs": [],
   "source": [
    "len(zh['fulltext'])"
   ]
  },
  {
   "cell_type": "code",
   "execution_count": null,
   "metadata": {},
   "outputs": [],
   "source": [
    "t = zhnb['fulltext']"
   ]
  },
  {
   "cell_type": "code",
   "execution_count": null,
   "metadata": {},
   "outputs": [],
   "source": [
    "fname=\"zh3.txt\"        \n",
    "of=open(fname, \"w\")\n",
    "t = zhzb['fulltext']\n",
    "of.write(\"<div><head>%s</head>\\n\" % (zhzb['title']) )\n",
    "for p in t:\n",
    "    of.write (\"<p>%s</p>\\n\" % (p))\n",
    "of.write(\"</div>\")\n",
    "of.close()"
   ]
  },
  {
   "cell_type": "code",
   "execution_count": null,
   "metadata": {},
   "outputs": [],
   "source": [
    "wangbiurn=\"ctp:dao-de-zhen-jing-zhu\"\n",
    "wangbi=ctext.gettext(wangbiurn)\n"
   ]
  },
  {
   "cell_type": "code",
   "execution_count": null,
   "metadata": {},
   "outputs": [],
   "source": [
    "t = wangbi['fulltext']"
   ]
  },
  {
   "cell_type": "code",
   "execution_count": null,
   "metadata": {},
   "outputs": [],
   "source": [
    "t"
   ]
  },
  {
   "cell_type": "code",
   "execution_count": null,
   "metadata": {},
   "outputs": [],
   "source": [
    "st= ctext.getstatus()\n",
    "st"
   ]
  },
  {
   "cell_type": "code",
   "execution_count": null,
   "metadata": {},
   "outputs": [],
   "source": [
    "api=ctext.setapikey(\"b5820751b1dd6d857d3cf836295df36e\")\n",
    "ctext.getstatus()"
   ]
  },
  {
   "cell_type": "code",
   "execution_count": null,
   "metadata": {},
   "outputs": [],
   "source": [
    "api"
   ]
  },
  {
   "cell_type": "code",
   "execution_count": null,
   "metadata": {},
   "outputs": [],
   "source": []
  }
 ],
 "metadata": {
  "kernelspec": {
   "display_name": "Python 3",
   "language": "python",
   "name": "python3"
  },
  "language_info": {
   "codemirror_mode": {
    "name": "ipython",
    "version": 3
   },
   "file_extension": ".py",
   "mimetype": "text/x-python",
   "name": "python",
   "nbconvert_exporter": "python",
   "pygments_lexer": "ipython3",
   "version": "3.7.5"
  }
 },
 "nbformat": 4,
 "nbformat_minor": 2
}
